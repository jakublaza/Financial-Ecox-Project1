{
 "cells": [
  {
   "cell_type": "markdown",
   "metadata": {},
   "source": [
    "# Financial Econometrics II: Project 1\n",
    "### Jakub Laza and David Cerny"
   ]
  },
  {
   "cell_type": "markdown",
   "metadata": {
    "vscode": {
     "languageId": "julia"
    }
   },
   "source": [
    "### Packages set-up"
   ]
  },
  {
   "cell_type": "code",
   "execution_count": 1,
   "metadata": {},
   "outputs": [
    {
     "name": "stderr",
     "output_type": "stream",
     "text": [
      "\u001b[32m\u001b[1m  Activating\u001b[22m\u001b[39m project at `~/Desktop/FinEcox2/Financial-Ecox-Project1`\n"
     ]
    }
   ],
   "source": [
    "import Pkg\n",
    "Pkg.activate(\".\")"
   ]
  },
  {
   "cell_type": "code",
   "execution_count": 2,
   "metadata": {},
   "outputs": [],
   "source": [
    "Pkg.instantiate()"
   ]
  },
  {
   "cell_type": "code",
   "execution_count": 3,
   "metadata": {},
   "outputs": [
    {
     "name": "stderr",
     "output_type": "stream",
     "text": [
      "\u001b[32m\u001b[1m   Resolving\u001b[22m\u001b[39m package versions...\n",
      "\u001b[32m\u001b[1m  No Changes\u001b[22m\u001b[39m to `~/Desktop/FinEcox2/Financial-Ecox-Project1/Project.toml`\n",
      "\u001b[32m\u001b[1m  No Changes\u001b[22m\u001b[39m to `~/Desktop/FinEcox2/Financial-Ecox-Project1/Manifest.toml`\n"
     ]
    }
   ],
   "source": [
    "Pkg.add(\"MarketData\")"
   ]
  },
  {
   "cell_type": "code",
   "execution_count": 4,
   "metadata": {},
   "outputs": [],
   "source": [
    "using MarketData"
   ]
  },
  {
   "cell_type": "markdown",
   "metadata": {},
   "source": [
    "### Get data from Yahoo Finance (We are working with AutoZone, Inc.)"
   ]
  },
  {
   "cell_type": "code",
   "execution_count": 5,
   "metadata": {},
   "outputs": [
    {
     "data": {
      "text/plain": [
       "8458×6 TimeArray{Float64, 2, Date, Matrix{Float64}} 1991-04-02 to 2024-10-28\n",
       "┌────────────┬─────────┬─────────┬─────────┬─────────┬──────────┬──────────┐\n",
       "│\u001b[1m            \u001b[0m│\u001b[1m Open    \u001b[0m│\u001b[1m High    \u001b[0m│\u001b[1m Low     \u001b[0m│\u001b[1m Close   \u001b[0m│\u001b[1m AdjClose \u001b[0m│\u001b[1m Volume   \u001b[0m│\n",
       "├────────────┼─────────┼─────────┼─────────┼─────────┼──────────┼──────────┤\n",
       "│ 1991-04-02 │   6.875 │   7.375 │  6.5625 │ 7.34375 │  7.34375 │ 9.1472e6 │\n",
       "│ 1991-04-03 │ 7.28125 │ 7.34375 │   6.875 │  7.3125 │   7.3125 │ 3.4032e6 │\n",
       "│ 1991-04-04 │ 7.28125 │ 7.28125 │ 7.09375 │ 7.21875 │  7.21875 │ 831200.0 │\n",
       "│ 1991-04-05 │   7.125 │  7.1875 │ 7.09375 │   7.125 │    7.125 │ 457200.0 │\n",
       "│ 1991-04-08 │  7.0625 │  7.1875 │   6.875 │   7.125 │    7.125 │ 608800.0 │\n",
       "│ 1991-04-09 │   7.125 │    7.25 │   7.125 │  7.1875 │   7.1875 │ 472400.0 │\n",
       "│ 1991-04-10 │   7.125 │     7.5 │   7.125 │     7.5 │      7.5 │ 781600.0 │\n",
       "│ 1991-04-11 │    7.75 │ 8.28125 │    7.75 │  8.0625 │   8.0625 │ 1.3392e6 │\n",
       "│ 1991-04-12 │   8.125 │    8.25 │  8.0625 │ 8.15625 │  8.15625 │ 468800.0 │\n",
       "│ 1991-04-15 │ 8.21875 │ 8.21875 │  7.9375 │     8.0 │      8.0 │ 352800.0 │\n",
       "│ 1991-04-16 │ 7.96875 │ 8.15625 │ 7.78125 │ 8.09375 │  8.09375 │ 266400.0 │\n",
       "│     ⋮      │    ⋮    │    ⋮    │    ⋮    │    ⋮    │    ⋮     │    ⋮     │\n",
       "│ 2024-10-15 │  3127.0 │ 3160.61 │ 3076.75 │  3100.0 │   3100.0 │ 189200.0 │\n",
       "│ 2024-10-16 │  3100.0 │ 3136.78 │ 3078.46 │ 3128.64 │  3128.64 │ 133700.0 │\n",
       "│ 2024-10-17 │  3120.0 │  3158.0 │ 3102.51 │  3158.0 │   3158.0 │  87000.0 │\n",
       "│ 2024-10-18 │ 3180.46 │ 3197.21 │ 3141.44 │ 3182.07 │  3182.07 │ 113400.0 │\n",
       "│ 2024-10-21 │  3185.0 │ 3223.49 │  3185.0 │ 3218.48 │  3218.48 │  94100.0 │\n",
       "│ 2024-10-22 │ 3179.86 │ 3201.42 │ 3149.78 │ 3172.05 │  3172.05 │  83700.0 │\n",
       "│ 2024-10-23 │ 3183.45 │ 3196.55 │ 3163.39 │ 3196.55 │  3196.55 │ 130200.0 │\n",
       "│ 2024-10-24 │ 3146.28 │ 3171.18 │ 3112.33 │ 3153.25 │  3153.25 │ 111000.0 │\n",
       "│ 2024-10-25 │  3165.6 │ 3172.57 │ 3119.99 │ 3130.96 │  3130.96 │  85400.0 │\n",
       "│ 2024-10-28 │ 3126.12 │ 3139.28 │ 3078.47 │ 3105.93 │  3105.93 │  76141.0 │\n",
       "└────────────┴─────────┴─────────┴─────────┴─────────┴──────────┴──────────┘\n",
       "\u001b[36m                                                           8437 rows omitted\u001b[0m"
      ]
     },
     "execution_count": 5,
     "metadata": {},
     "output_type": "execute_result"
    }
   ],
   "source": [
    "# Fetch SP500 historical data\n",
    "data = MarketData.yahoo(:AZO)"
   ]
  },
  {
   "cell_type": "markdown",
   "metadata": {},
   "source": [
    "### Data Exploration"
   ]
  }
 ],
 "metadata": {
  "kernelspec": {
   "display_name": "Julia 1.10.5",
   "language": "julia",
   "name": "julia-1.10"
  },
  "language_info": {
   "file_extension": ".jl",
   "mimetype": "application/julia",
   "name": "julia",
   "version": "1.10.5"
  }
 },
 "nbformat": 4,
 "nbformat_minor": 2
}
